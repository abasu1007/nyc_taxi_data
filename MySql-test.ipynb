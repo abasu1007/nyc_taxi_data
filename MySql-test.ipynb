{
 "cells": [
  {
   "cell_type": "code",
   "execution_count": 5,
   "metadata": {
    "collapsed": false
   },
   "outputs": [
    {
     "name": "stderr",
     "output_type": "stream",
     "text": [
      "C:\\Users\\Anirban\\Anaconda2\\lib\\site-packages\\matplotlib\\__init__.py:872: UserWarning: axes.color_cycle is deprecated and replaced with axes.prop_cycle; please use the latter.\n",
      "  warnings.warn(self.msg_depr % (key, alt_key))\n"
     ]
    }
   ],
   "source": [
    "%matplotlib inline\n",
    "import matplotlib.pyplot as plt\n",
    "import seaborn as sns\n",
    "import statsmodels.api as sm\n",
    "import pandas as pd\n",
    "import numpy as np\n",
    "import csv\n",
    "import MySQLdb\n",
    "import time\n",
    "import json\n",
    "from sklearn import cluster\n",
    "from sklearn import feature_selection, linear_model\n",
    "from mpl_toolkits.basemap import Basemap\n",
    "from geopy.distance import vincenty, great_circle\n",
    "import statsmodels.formula.api as smf\n",
    "import sklearn\n",
    "from sklearn.cross_validation import train_test_split\n",
    "from sklearn.tree import DecisionTreeRegressor\n",
    "\n",
    "# set some nicer defaults for matplotlib\n",
    "from matplotlib import rcParams\n",
    "\n",
    "#these colors come from colorbrewer2.org. Each is an RGB triplet\n",
    "dark2_colors = [(0.10588235294117647, 0.6196078431372549, 0.4666666666666667),\n",
    "                (0.8509803921568627, 0.37254901960784315, 0.00784313725490196),\n",
    "                (0.4588235294117647, 0.4392156862745098, 0.7019607843137254),\n",
    "                (0.9058823529411765, 0.1607843137254902, 0.5411764705882353),\n",
    "                (0.4, 0.6509803921568628, 0.11764705882352941),\n",
    "                (0.9019607843137255, 0.6705882352941176, 0.00784313725490196),\n",
    "                (0.6509803921568628, 0.4627450980392157, 0.11372549019607843),\n",
    "                (0.4, 0.4, 0.4)]\n",
    "\n",
    "rcParams['figure.figsize'] = (10, 6)\n",
    "rcParams['figure.dpi'] = 150\n",
    "rcParams['axes.color_cycle'] = dark2_colors\n",
    "rcParams['lines.linewidth'] = 2\n",
    "rcParams['axes.grid'] = False\n",
    "rcParams['axes.facecolor'] = 'white'\n",
    "rcParams['font.size'] = 14\n",
    "rcParams['patch.edgecolor'] = 'none'"
   ]
  },
  {
   "cell_type": "code",
   "execution_count": 23,
   "metadata": {
    "collapsed": false
   },
   "outputs": [
    {
     "name": "stderr",
     "output_type": "stream",
     "text": [
      "C:\\Users\\Anirban\\Anaconda2\\lib\\site-packages\\ipykernel\\__main__.py:8: Warning: Unknown table 'sakila.employee'\n"
     ]
    }
   ],
   "source": [
    "# Open database connection\n",
    "db = MySQLdb.connect(host=\"127.0.0.1\", user=\"root\",passwd='1011', db=\"sakila\" )\n",
    "\n",
    "# prepare a cursor object using cursor() method\n",
    "cursor = db.cursor()\n",
    "\n",
    "# Drop table if it already exist using execute() method.\n",
    "cursor.execute(\"DROP TABLE IF EXISTS EMPLOYEE\")\n",
    "\n",
    "# Create table as per requirement\n",
    "sql = \"\"\"CREATE TABLE EMPLOYEE (\n",
    "         FIRST_NAME  CHAR(20) NOT NULL,\n",
    "         LAST_NAME  CHAR(20),\n",
    "         AGE INT,  \n",
    "         SEX CHAR(1),\n",
    "         INCOME FLOAT )\"\"\"\n",
    "\n",
    "cursor.execute(sql)\n",
    "\n",
    "# disconnect from server\n",
    "db.close()"
   ]
  },
  {
   "cell_type": "code",
   "execution_count": 30,
   "metadata": {
    "collapsed": false
   },
   "outputs": [
    {
     "name": "stdout",
     "output_type": "stream",
     "text": [
      "(('FIRST_NAME', 'char(20)', 'NO', '', None, ''), ('LAST_NAME', 'char(20)', 'YES', '', None, ''), ('AGE', 'int(11)', 'YES', '', None, ''), ('SEX', 'char(1)', 'YES', '', None, ''), ('INCOME', 'float', 'YES', '', None, ''))\n"
     ]
    }
   ],
   "source": [
    "db = MySQLdb.connect(host=\"127.0.0.1\", user=\"root\",passwd='1011', db=\"sakila\" )\n",
    "\n",
    "# prepare a cursor object using cursor() method\n",
    "cursor = db.cursor()\n",
    "\n",
    "# Drop table if it already exist using execute() method.\n",
    "cursor.execute(\"DESCRIBE EMPLOYEE\")\n",
    "print cursor.fetchall()\n",
    "\n",
    "# disconnect from server\n",
    "db.close()"
   ]
  }
 ],
 "metadata": {
  "kernelspec": {
   "display_name": "Python 2",
   "language": "python",
   "name": "python2"
  },
  "language_info": {
   "codemirror_mode": {
    "name": "ipython",
    "version": 2
   },
   "file_extension": ".py",
   "mimetype": "text/x-python",
   "name": "python",
   "nbconvert_exporter": "python",
   "pygments_lexer": "ipython2",
   "version": "2.7.11"
  }
 },
 "nbformat": 4,
 "nbformat_minor": 0
}
