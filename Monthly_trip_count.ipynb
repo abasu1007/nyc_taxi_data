{
 "cells": [
  {
   "cell_type": "code",
   "execution_count": null,
   "metadata": {
    "collapsed": true
   },
   "outputs": [],
   "source": [
    "# csv and numpy packages are imported\n",
    "\n",
    "%matplotlib inline\n",
    "import matplotlib.pyplot as plt\n",
    "import seaborn as sns\n",
    "import statsmodels.api as sm\n",
    "import pandas as pd\n",
    "import numpy as np\n",
    "import csv\n",
    "import sqlite3\n",
    "from mpl_toolkits.basemap import Basemap\n",
    "\n",
    "# set some nicer defaults for matplotlib\n",
    "from matplotlib import rcParams\n",
    "\n",
    "#these colors come from colorbrewer2.org. Each is an RGB triplet\n",
    "dark2_colors = [(0.10588235294117647, 0.6196078431372549, 0.4666666666666667),\n",
    "                (0.8509803921568627, 0.37254901960784315, 0.00784313725490196),\n",
    "                (0.4588235294117647, 0.4392156862745098, 0.7019607843137254),\n",
    "                (0.9058823529411765, 0.1607843137254902, 0.5411764705882353),\n",
    "                (0.4, 0.6509803921568628, 0.11764705882352941),\n",
    "                (0.9019607843137255, 0.6705882352941176, 0.00784313725490196),\n",
    "                (0.6509803921568628, 0.4627450980392157, 0.11372549019607843),\n",
    "                (0.4, 0.4, 0.4)]\n",
    "\n",
    "rcParams['figure.figsize'] = (10, 6)\n",
    "rcParams['figure.dpi'] = 150\n",
    "rcParams['axes.color_cycle'] = dark2_colors\n",
    "rcParams['lines.linewidth'] = 2\n",
    "rcParams['axes.grid'] = False\n",
    "rcParams['axes.facecolor'] = 'white'\n",
    "rcParams['font.size'] = 14\n",
    "rcParams['patch.edgecolor'] = 'none'"
   ]
  },
  {
   "cell_type": "code",
   "execution_count": null,
   "metadata": {
    "collapsed": true
   },
   "outputs": [],
   "source": [
    "%%time\n",
    "\n",
    "count_list_2013 = []\n",
    "for i in range(12):\n",
    "    file_path = '../nyc_taxi_files/trip_data_files/trip_data_%d.csv' %(i+1)\n",
    "    print file_path\n",
    "    trip_data_file = open(file_path, 'r')\n",
    "    trip_data = csv.reader(trip_data_file)\n",
    "    \n",
    "    count = 0\n",
    "    for j in trip_data:\n",
    "        count+=1\n",
    "    count_list_2013.append(count)\n",
    "    trip_data_file.close()\n",
    "    print count\n",
    "\n",
    "print count_list_2013"
   ]
  },
  {
   "cell_type": "code",
   "execution_count": null,
   "metadata": {
    "collapsed": true
   },
   "outputs": [],
   "source": [
    "%%time\n",
    "\n",
    "month_list = ['Jan','Feb','Mar','Apr','May','Jun','Jul','Aug','Sep','Oct','Nov','Dec']\n",
    "count_df=DataFrame(data=month_list, index=range(12), columns=['Month'])\n",
    "count_df['2013_trips']=count_list_2013\n",
    "count_df.plot(x='Month',y='2013_trips',kind='bar',ylim=(1.2e7, 1.6e7))"
   ]
  },
  {
   "cell_type": "code",
   "execution_count": null,
   "metadata": {
    "collapsed": true
   },
   "outputs": [],
   "source": [
    "count_df_sorted=count_df.sort_values(by='2013_trips')\n",
    "count_df_sorted.plot(x='Month',y='2013_trips',kind='bar',ylim=(1.2e7, 1.6e7))"
   ]
  },
  {
   "cell_type": "code",
   "execution_count": null,
   "metadata": {
    "collapsed": true
   },
   "outputs": [],
   "source": [
    "count_list_2014 = []\n",
    "for i in range(12):\n",
    "    file_path = '../nyc_taxi_files/2014-data/yellow_tripdata_2014-%02d.csv' %(i+1)\n",
    "    print file_path\n",
    "    trip_data_file = open(file_path, 'r')\n",
    "    trip_data = csv.reader(trip_data_file)\n",
    "    \n",
    "    count = 0\n",
    "    for j in trip_data:\n",
    "        count+=1\n",
    "    count_list_2014.append(count)\n",
    "    trip_data_file.close()\n",
    "    print count\n",
    "\n",
    "print count_list_2014"
   ]
  },
  {
   "cell_type": "code",
   "execution_count": null,
   "metadata": {
    "collapsed": true
   },
   "outputs": [],
   "source": [
    "count_list_2015 = []\n",
    "for i in range(12):\n",
    "    file_path = '../nyc_taxi_files/2015-data/yellow_tripdata_2015-%02d.csv' %(i+1)\n",
    "    print file_path\n",
    "    trip_data_file = open(file_path, 'r')\n",
    "    trip_data = csv.reader(trip_data_file)\n",
    "    \n",
    "    count = 0\n",
    "    for j in trip_data:\n",
    "        count+=1\n",
    "    count_list_2015.append(count)\n",
    "    trip_data_file.close()\n",
    "    print count\n",
    "\n",
    "print count_list_2015"
   ]
  },
  {
   "cell_type": "code",
   "execution_count": null,
   "metadata": {
    "collapsed": true
   },
   "outputs": [],
   "source": [
    "count_df['2014_trips'] = count_list_2014\n",
    "count_df['2015_trips'] = count_list_2015\n",
    "\n",
    "count_df"
   ]
  },
  {
   "cell_type": "code",
   "execution_count": null,
   "metadata": {
    "collapsed": true
   },
   "outputs": [],
   "source": [
    "Uber_data_months = ['Apr','May','Jun','Jul','Aug','Sep']\n",
    "\n",
    "count_df['2014_Uber_trips'] = 0\n",
    "\n",
    "for month in Uber_data_months:\n",
    "    file_path = '../nyc_taxi_files/uber-trip-data/uber-raw-data-%s14.csv' %(month.lower())\n",
    "    print file_path\n",
    "    trip_data_file = open(file_path, 'r')\n",
    "    trip_data = csv.reader(trip_data_file)\n",
    "    \n",
    "    count = 0\n",
    "    for j in trip_data:\n",
    "        count+=1\n",
    "    \n",
    "    count_df.loc[count_df['Month'] == month, '2014_Uber_trips'] = count\n",
    "    trip_data_file.close()\n",
    "\n",
    "count_df"
   ]
  },
  {
   "cell_type": "code",
   "execution_count": null,
   "metadata": {
    "collapsed": true
   },
   "outputs": [],
   "source": [
    "plt.figure(figsize=(20,10))\n",
    "\n",
    "ax1 = plt.subplot(121)\n",
    "count_df.plot(x='Month', y='2013_trips', kind='line', color = 'red', ax=ax1, label='2013 trips')\n",
    "count_df.plot(x='Month', y='2014_trips', kind='line', color = 'blue', ax=ax1, label='2014 trips')\n",
    "count_df.plot(x='Month', y='2015_trips', kind='line', color = 'green', ax=ax1, label='2015 trips')\n",
    "\n",
    "ax1.set(title='Number of trips each month')\n",
    "\n",
    "ax2 = plt.subplot(122)\n",
    "count_df[count_df.Month.isin(['Apr','May','Jun','Jul','Aug','Sep'])].plot(x='Month', y='2014_Uber_trips', kind='line', \n",
    "                                                                          ax=ax2, label='2014 Uber trips')\n",
    "ax2.set(title='Number of Uber trips from Apr to Sep')"
   ]
  },
  {
   "cell_type": "code",
   "execution_count": null,
   "metadata": {
    "collapsed": true
   },
   "outputs": [],
   "source": []
  }
 ],
 "metadata": {
  "kernelspec": {
   "display_name": "Python 2",
   "language": "python",
   "name": "python2"
  },
  "language_info": {
   "codemirror_mode": {
    "name": "ipython",
    "version": 2
   },
   "file_extension": ".py",
   "mimetype": "text/x-python",
   "name": "python",
   "nbconvert_exporter": "python",
   "pygments_lexer": "ipython2",
   "version": "2.7.11"
  }
 },
 "nbformat": 4,
 "nbformat_minor": 0
}
