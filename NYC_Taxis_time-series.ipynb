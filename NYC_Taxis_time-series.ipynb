{
 "cells": [
  {
   "cell_type": "code",
   "execution_count": 1,
   "metadata": {
    "collapsed": false
   },
   "outputs": [
    {
     "name": "stderr",
     "output_type": "stream",
     "text": [
      "C:\\Users\\Anirban\\Anaconda2\\lib\\site-packages\\matplotlib\\__init__.py:872: UserWarning: axes.color_cycle is deprecated and replaced with axes.prop_cycle; please use the latter.\n",
      "  warnings.warn(self.msg_depr % (key, alt_key))\n"
     ]
    }
   ],
   "source": [
    "%matplotlib inline\n",
    "import matplotlib.pyplot as plt\n",
    "import seaborn as sns\n",
    "import statsmodels.api as sm\n",
    "import pandas as pd\n",
    "import numpy as np\n",
    "import csv\n",
    "import sqlite3\n",
    "import time\n",
    "import json\n",
    "import statsmodels.api as sm\n",
    "from sklearn.metrics import mean_absolute_error\n",
    "from datetime import datetime\n",
    "from sklearn import cluster\n",
    "from sklearn import feature_selection, linear_model\n",
    "from mpl_toolkits.basemap import Basemap\n",
    "from geopy.distance import vincenty, great_circle\n",
    "import statsmodels.formula.api as smf\n",
    "import sklearn\n",
    "from sklearn.cross_validation import train_test_split\n",
    "from sklearn.tree import DecisionTreeRegressor\n",
    "\n",
    "# set some nicer defaults for matplotlib\n",
    "from matplotlib import rcParams\n",
    "\n",
    "#these colors come from colorbrewer2.org. Each is an RGB triplet\n",
    "dark2_colors = [(0.10588235294117647, 0.6196078431372549, 0.4666666666666667),\n",
    "                (0.8509803921568627, 0.37254901960784315, 0.00784313725490196),\n",
    "                (0.4588235294117647, 0.4392156862745098, 0.7019607843137254),\n",
    "                (0.9058823529411765, 0.1607843137254902, 0.5411764705882353),\n",
    "                (0.4, 0.6509803921568628, 0.11764705882352941),\n",
    "                (0.9019607843137255, 0.6705882352941176, 0.00784313725490196),\n",
    "                (0.6509803921568628, 0.4627450980392157, 0.11372549019607843),\n",
    "                (0.4, 0.4, 0.4)]\n",
    "\n",
    "rcParams['figure.figsize'] = (20, 6)\n",
    "rcParams['figure.dpi'] = 150\n",
    "rcParams['axes.color_cycle'] = dark2_colors\n",
    "rcParams['lines.linewidth'] = 2\n",
    "rcParams['axes.grid'] = False\n",
    "rcParams['axes.facecolor'] = 'white'\n",
    "rcParams['font.size'] = 20\n",
    "rcParams['patch.edgecolor'] = 'none'"
   ]
  },
  {
   "cell_type": "code",
   "execution_count": 2,
   "metadata": {
    "collapsed": false
   },
   "outputs": [
    {
     "name": "stdout",
     "output_type": "stream",
     "text": [
      "Wall time: 8.46 s\n"
     ]
    }
   ],
   "source": [
    "%%time\n",
    "\n",
    "sample_trips_with_location = pd.read_csv('../nyc_taxi_files/2013_Jan_sample_neighborhood.csv')"
   ]
  },
  {
   "cell_type": "code",
   "execution_count": 3,
   "metadata": {
    "collapsed": false
   },
   "outputs": [
    {
     "data": {
      "text/html": [
       "<div>\n",
       "<table border=\"1\" class=\"dataframe\">\n",
       "  <thead>\n",
       "    <tr style=\"text-align: right;\">\n",
       "      <th></th>\n",
       "      <th>medallion</th>\n",
       "      <th>hack_license</th>\n",
       "      <th>vendor_id</th>\n",
       "      <th>rate_code</th>\n",
       "      <th>store_and_fwd_flag</th>\n",
       "      <th>pickup_datetime</th>\n",
       "      <th>dropoff_datetime</th>\n",
       "      <th>passenger_count</th>\n",
       "      <th>trip_time_in_secs</th>\n",
       "      <th>trip_distance</th>\n",
       "      <th>...</th>\n",
       "      <th>tolls_amount</th>\n",
       "      <th>total_amount</th>\n",
       "      <th>pickup_hour</th>\n",
       "      <th>dropoff_hour</th>\n",
       "      <th>tip_fraction</th>\n",
       "      <th>pickup_wday</th>\n",
       "      <th>pickup_day</th>\n",
       "      <th>full_date</th>\n",
       "      <th>month_day</th>\n",
       "      <th>neighborhood</th>\n",
       "    </tr>\n",
       "  </thead>\n",
       "  <tbody>\n",
       "    <tr>\n",
       "      <th>0</th>\n",
       "      <td>F47E83A52C8401C874B99A98CCE246DF</td>\n",
       "      <td>4E260C3310346E735CBDF8C8E6761D66</td>\n",
       "      <td>VTS</td>\n",
       "      <td>1</td>\n",
       "      <td>NaN</td>\n",
       "      <td>2013-01-30 16:34:00</td>\n",
       "      <td>2013-01-30 16:43:00</td>\n",
       "      <td>1</td>\n",
       "      <td>540</td>\n",
       "      <td>0.86</td>\n",
       "      <td>...</td>\n",
       "      <td>0.0</td>\n",
       "      <td>7.5</td>\n",
       "      <td>16</td>\n",
       "      <td>16</td>\n",
       "      <td>0.000000</td>\n",
       "      <td>2</td>\n",
       "      <td>Wednesday</td>\n",
       "      <td>2013-01-30</td>\n",
       "      <td>30</td>\n",
       "      <td>Midtown</td>\n",
       "    </tr>\n",
       "    <tr>\n",
       "      <th>1</th>\n",
       "      <td>3AA58DEEC2CA4C104FCA781EC38B6DA1</td>\n",
       "      <td>8F986F92BDA7196564FAA2766EFCD3AD</td>\n",
       "      <td>CMT</td>\n",
       "      <td>1</td>\n",
       "      <td>N</td>\n",
       "      <td>2013-01-16 22:31:15</td>\n",
       "      <td>2013-01-16 22:37:24</td>\n",
       "      <td>1</td>\n",
       "      <td>368</td>\n",
       "      <td>1.20</td>\n",
       "      <td>...</td>\n",
       "      <td>0.0</td>\n",
       "      <td>7.5</td>\n",
       "      <td>22</td>\n",
       "      <td>22</td>\n",
       "      <td>0.000000</td>\n",
       "      <td>2</td>\n",
       "      <td>Wednesday</td>\n",
       "      <td>2013-01-16</td>\n",
       "      <td>16</td>\n",
       "      <td>Noho</td>\n",
       "    </tr>\n",
       "    <tr>\n",
       "      <th>2</th>\n",
       "      <td>BEEB829C76993A19098AFA1F5C0C88D2</td>\n",
       "      <td>1C3DFBBA24C7057BF7CB1E48E28153F0</td>\n",
       "      <td>CMT</td>\n",
       "      <td>1</td>\n",
       "      <td>N</td>\n",
       "      <td>2013-01-28 14:34:48</td>\n",
       "      <td>2013-01-28 14:47:36</td>\n",
       "      <td>1</td>\n",
       "      <td>767</td>\n",
       "      <td>1.90</td>\n",
       "      <td>...</td>\n",
       "      <td>0.0</td>\n",
       "      <td>13.2</td>\n",
       "      <td>14</td>\n",
       "      <td>14</td>\n",
       "      <td>0.209524</td>\n",
       "      <td>0</td>\n",
       "      <td>Monday</td>\n",
       "      <td>2013-01-28</td>\n",
       "      <td>28</td>\n",
       "      <td>Clinton</td>\n",
       "    </tr>\n",
       "    <tr>\n",
       "      <th>3</th>\n",
       "      <td>3E7AA144EBE43CE6B567524550C78DFF</td>\n",
       "      <td>4AEEA5836012EA84DF0E246D002E1A41</td>\n",
       "      <td>VTS</td>\n",
       "      <td>1</td>\n",
       "      <td>NaN</td>\n",
       "      <td>2013-01-18 18:43:00</td>\n",
       "      <td>2013-01-18 18:50:00</td>\n",
       "      <td>5</td>\n",
       "      <td>420</td>\n",
       "      <td>1.22</td>\n",
       "      <td>...</td>\n",
       "      <td>0.0</td>\n",
       "      <td>10.1</td>\n",
       "      <td>18</td>\n",
       "      <td>18</td>\n",
       "      <td>0.228571</td>\n",
       "      <td>4</td>\n",
       "      <td>Friday</td>\n",
       "      <td>2013-01-18</td>\n",
       "      <td>18</td>\n",
       "      <td>Midtown</td>\n",
       "    </tr>\n",
       "    <tr>\n",
       "      <th>4</th>\n",
       "      <td>A5C6F0FC150417517C2894400795B1F8</td>\n",
       "      <td>97336339EBD6E99950B8D11E083E932B</td>\n",
       "      <td>VTS</td>\n",
       "      <td>1</td>\n",
       "      <td>NaN</td>\n",
       "      <td>2013-01-22 00:21:00</td>\n",
       "      <td>2013-01-22 00:37:00</td>\n",
       "      <td>1</td>\n",
       "      <td>960</td>\n",
       "      <td>6.94</td>\n",
       "      <td>...</td>\n",
       "      <td>0.0</td>\n",
       "      <td>22.0</td>\n",
       "      <td>0</td>\n",
       "      <td>0</td>\n",
       "      <td>0.000000</td>\n",
       "      <td>1</td>\n",
       "      <td>Tuesday</td>\n",
       "      <td>2013-01-22</td>\n",
       "      <td>22</td>\n",
       "      <td>Clinton</td>\n",
       "    </tr>\n",
       "  </tbody>\n",
       "</table>\n",
       "<p>5 rows × 29 columns</p>\n",
       "</div>"
      ],
      "text/plain": [
       "                          medallion                      hack_license  \\\n",
       "0  F47E83A52C8401C874B99A98CCE246DF  4E260C3310346E735CBDF8C8E6761D66   \n",
       "1  3AA58DEEC2CA4C104FCA781EC38B6DA1  8F986F92BDA7196564FAA2766EFCD3AD   \n",
       "2  BEEB829C76993A19098AFA1F5C0C88D2  1C3DFBBA24C7057BF7CB1E48E28153F0   \n",
       "3  3E7AA144EBE43CE6B567524550C78DFF  4AEEA5836012EA84DF0E246D002E1A41   \n",
       "4  A5C6F0FC150417517C2894400795B1F8  97336339EBD6E99950B8D11E083E932B   \n",
       "\n",
       "  vendor_id  rate_code store_and_fwd_flag      pickup_datetime  \\\n",
       "0       VTS          1                NaN  2013-01-30 16:34:00   \n",
       "1       CMT          1                  N  2013-01-16 22:31:15   \n",
       "2       CMT          1                  N  2013-01-28 14:34:48   \n",
       "3       VTS          1                NaN  2013-01-18 18:43:00   \n",
       "4       VTS          1                NaN  2013-01-22 00:21:00   \n",
       "\n",
       "      dropoff_datetime  passenger_count  trip_time_in_secs  trip_distance  \\\n",
       "0  2013-01-30 16:43:00                1                540           0.86   \n",
       "1  2013-01-16 22:37:24                1                368           1.20   \n",
       "2  2013-01-28 14:47:36                1                767           1.90   \n",
       "3  2013-01-18 18:50:00                5                420           1.22   \n",
       "4  2013-01-22 00:37:00                1                960           6.94   \n",
       "\n",
       "       ...       tolls_amount  total_amount  pickup_hour  dropoff_hour  \\\n",
       "0      ...                0.0           7.5           16            16   \n",
       "1      ...                0.0           7.5           22            22   \n",
       "2      ...                0.0          13.2           14            14   \n",
       "3      ...                0.0          10.1           18            18   \n",
       "4      ...                0.0          22.0            0             0   \n",
       "\n",
       "  tip_fraction  pickup_wday  pickup_day   full_date  month_day  neighborhood  \n",
       "0     0.000000            2   Wednesday  2013-01-30         30       Midtown  \n",
       "1     0.000000            2   Wednesday  2013-01-16         16          Noho  \n",
       "2     0.209524            0      Monday  2013-01-28         28       Clinton  \n",
       "3     0.228571            4      Friday  2013-01-18         18       Midtown  \n",
       "4     0.000000            1     Tuesday  2013-01-22         22       Clinton  \n",
       "\n",
       "[5 rows x 29 columns]"
      ]
     },
     "execution_count": 3,
     "metadata": {},
     "output_type": "execute_result"
    }
   ],
   "source": [
    "sample_trips_with_location.head()"
   ]
  },
  {
   "cell_type": "code",
   "execution_count": 4,
   "metadata": {
    "collapsed": false
   },
   "outputs": [
    {
     "data": {
      "text/plain": [
       "Index([u'medallion', u'hack_license', u'vendor_id', u'rate_code',\n",
       "       u'store_and_fwd_flag', u'pickup_datetime', u'dropoff_datetime',\n",
       "       u'passenger_count', u'trip_time_in_secs', u'trip_distance',\n",
       "       u'pickup_longitude', u'pickup_latitude', u'dropoff_longitude',\n",
       "       u'dropoff_latitude', u'payment_type', u'fare_amount', u'surcharge',\n",
       "       u'mta_tax', u'tip_amount', u'tolls_amount', u'total_amount',\n",
       "       u'pickup_hour', u'dropoff_hour', u'tip_fraction', u'pickup_wday',\n",
       "       u'pickup_day', u'full_date', u'month_day', u'neighborhood'],\n",
       "      dtype='object')"
      ]
     },
     "execution_count": 4,
     "metadata": {},
     "output_type": "execute_result"
    }
   ],
   "source": [
    "sample_trips_with_location.columns"
   ]
  },
  {
   "cell_type": "code",
   "execution_count": 5,
   "metadata": {
    "collapsed": false
   },
   "outputs": [
    {
     "data": {
      "text/plain": [
       "2765"
      ]
     },
     "execution_count": 5,
     "metadata": {},
     "output_type": "execute_result"
    }
   ],
   "source": [
    "sample_trips_with_location[(sample_trips_with_location['pickup_hour'] == 12) & (sample_trips_with_location['neighborhood'] == 'Midtown')].shape[0]"
   ]
  },
  {
   "cell_type": "code",
   "execution_count": 6,
   "metadata": {
    "collapsed": false
   },
   "outputs": [
    {
     "data": {
      "text/html": [
       "<div>\n",
       "<table border=\"1\" class=\"dataframe\">\n",
       "  <thead>\n",
       "    <tr style=\"text-align: right;\">\n",
       "      <th></th>\n",
       "      <th></th>\n",
       "      <th></th>\n",
       "      <th>medallion</th>\n",
       "      <th>hack_license</th>\n",
       "      <th>vendor_id</th>\n",
       "      <th>rate_code</th>\n",
       "      <th>store_and_fwd_flag</th>\n",
       "      <th>pickup_datetime</th>\n",
       "      <th>dropoff_datetime</th>\n",
       "      <th>passenger_count</th>\n",
       "      <th>trip_time_in_secs</th>\n",
       "      <th>trip_distance</th>\n",
       "      <th>...</th>\n",
       "      <th>surcharge</th>\n",
       "      <th>mta_tax</th>\n",
       "      <th>tip_amount</th>\n",
       "      <th>tolls_amount</th>\n",
       "      <th>total_amount</th>\n",
       "      <th>dropoff_hour</th>\n",
       "      <th>tip_fraction</th>\n",
       "      <th>pickup_wday</th>\n",
       "      <th>pickup_day</th>\n",
       "      <th>month_day</th>\n",
       "    </tr>\n",
       "    <tr>\n",
       "      <th>full_date</th>\n",
       "      <th>neighborhood</th>\n",
       "      <th>pickup_hour</th>\n",
       "      <th></th>\n",
       "      <th></th>\n",
       "      <th></th>\n",
       "      <th></th>\n",
       "      <th></th>\n",
       "      <th></th>\n",
       "      <th></th>\n",
       "      <th></th>\n",
       "      <th></th>\n",
       "      <th></th>\n",
       "      <th></th>\n",
       "      <th></th>\n",
       "      <th></th>\n",
       "      <th></th>\n",
       "      <th></th>\n",
       "      <th></th>\n",
       "      <th></th>\n",
       "      <th></th>\n",
       "      <th></th>\n",
       "      <th></th>\n",
       "      <th></th>\n",
       "    </tr>\n",
       "  </thead>\n",
       "  <tbody>\n",
       "    <tr>\n",
       "      <th rowspan=\"10\" valign=\"top\">2013-01-01</th>\n",
       "      <th rowspan=\"10\" valign=\"top\">Astoria</th>\n",
       "      <th>0</th>\n",
       "      <td>2</td>\n",
       "      <td>2</td>\n",
       "      <td>2</td>\n",
       "      <td>2</td>\n",
       "      <td>1</td>\n",
       "      <td>2</td>\n",
       "      <td>2</td>\n",
       "      <td>2</td>\n",
       "      <td>2</td>\n",
       "      <td>2</td>\n",
       "      <td>...</td>\n",
       "      <td>2</td>\n",
       "      <td>2</td>\n",
       "      <td>2</td>\n",
       "      <td>2</td>\n",
       "      <td>2</td>\n",
       "      <td>2</td>\n",
       "      <td>2</td>\n",
       "      <td>2</td>\n",
       "      <td>2</td>\n",
       "      <td>2</td>\n",
       "    </tr>\n",
       "    <tr>\n",
       "      <th>1</th>\n",
       "      <td>6</td>\n",
       "      <td>6</td>\n",
       "      <td>6</td>\n",
       "      <td>6</td>\n",
       "      <td>2</td>\n",
       "      <td>6</td>\n",
       "      <td>6</td>\n",
       "      <td>6</td>\n",
       "      <td>6</td>\n",
       "      <td>6</td>\n",
       "      <td>...</td>\n",
       "      <td>6</td>\n",
       "      <td>6</td>\n",
       "      <td>6</td>\n",
       "      <td>6</td>\n",
       "      <td>6</td>\n",
       "      <td>6</td>\n",
       "      <td>6</td>\n",
       "      <td>6</td>\n",
       "      <td>6</td>\n",
       "      <td>6</td>\n",
       "    </tr>\n",
       "    <tr>\n",
       "      <th>2</th>\n",
       "      <td>7</td>\n",
       "      <td>7</td>\n",
       "      <td>7</td>\n",
       "      <td>7</td>\n",
       "      <td>2</td>\n",
       "      <td>7</td>\n",
       "      <td>7</td>\n",
       "      <td>7</td>\n",
       "      <td>7</td>\n",
       "      <td>7</td>\n",
       "      <td>...</td>\n",
       "      <td>7</td>\n",
       "      <td>7</td>\n",
       "      <td>7</td>\n",
       "      <td>7</td>\n",
       "      <td>7</td>\n",
       "      <td>7</td>\n",
       "      <td>7</td>\n",
       "      <td>7</td>\n",
       "      <td>7</td>\n",
       "      <td>7</td>\n",
       "    </tr>\n",
       "    <tr>\n",
       "      <th>3</th>\n",
       "      <td>10</td>\n",
       "      <td>10</td>\n",
       "      <td>10</td>\n",
       "      <td>10</td>\n",
       "      <td>4</td>\n",
       "      <td>10</td>\n",
       "      <td>10</td>\n",
       "      <td>10</td>\n",
       "      <td>10</td>\n",
       "      <td>10</td>\n",
       "      <td>...</td>\n",
       "      <td>10</td>\n",
       "      <td>10</td>\n",
       "      <td>10</td>\n",
       "      <td>10</td>\n",
       "      <td>10</td>\n",
       "      <td>10</td>\n",
       "      <td>10</td>\n",
       "      <td>10</td>\n",
       "      <td>10</td>\n",
       "      <td>10</td>\n",
       "    </tr>\n",
       "    <tr>\n",
       "      <th>4</th>\n",
       "      <td>7</td>\n",
       "      <td>7</td>\n",
       "      <td>7</td>\n",
       "      <td>7</td>\n",
       "      <td>1</td>\n",
       "      <td>7</td>\n",
       "      <td>7</td>\n",
       "      <td>7</td>\n",
       "      <td>7</td>\n",
       "      <td>7</td>\n",
       "      <td>...</td>\n",
       "      <td>7</td>\n",
       "      <td>7</td>\n",
       "      <td>7</td>\n",
       "      <td>7</td>\n",
       "      <td>7</td>\n",
       "      <td>7</td>\n",
       "      <td>7</td>\n",
       "      <td>7</td>\n",
       "      <td>7</td>\n",
       "      <td>7</td>\n",
       "    </tr>\n",
       "    <tr>\n",
       "      <th>5</th>\n",
       "      <td>4</td>\n",
       "      <td>4</td>\n",
       "      <td>4</td>\n",
       "      <td>4</td>\n",
       "      <td>1</td>\n",
       "      <td>4</td>\n",
       "      <td>4</td>\n",
       "      <td>4</td>\n",
       "      <td>4</td>\n",
       "      <td>4</td>\n",
       "      <td>...</td>\n",
       "      <td>4</td>\n",
       "      <td>4</td>\n",
       "      <td>4</td>\n",
       "      <td>4</td>\n",
       "      <td>4</td>\n",
       "      <td>4</td>\n",
       "      <td>4</td>\n",
       "      <td>4</td>\n",
       "      <td>4</td>\n",
       "      <td>4</td>\n",
       "    </tr>\n",
       "    <tr>\n",
       "      <th>6</th>\n",
       "      <td>3</td>\n",
       "      <td>3</td>\n",
       "      <td>3</td>\n",
       "      <td>3</td>\n",
       "      <td>2</td>\n",
       "      <td>3</td>\n",
       "      <td>3</td>\n",
       "      <td>3</td>\n",
       "      <td>3</td>\n",
       "      <td>3</td>\n",
       "      <td>...</td>\n",
       "      <td>3</td>\n",
       "      <td>3</td>\n",
       "      <td>3</td>\n",
       "      <td>3</td>\n",
       "      <td>3</td>\n",
       "      <td>3</td>\n",
       "      <td>3</td>\n",
       "      <td>3</td>\n",
       "      <td>3</td>\n",
       "      <td>3</td>\n",
       "    </tr>\n",
       "    <tr>\n",
       "      <th>9</th>\n",
       "      <td>4</td>\n",
       "      <td>4</td>\n",
       "      <td>4</td>\n",
       "      <td>4</td>\n",
       "      <td>1</td>\n",
       "      <td>4</td>\n",
       "      <td>4</td>\n",
       "      <td>4</td>\n",
       "      <td>4</td>\n",
       "      <td>4</td>\n",
       "      <td>...</td>\n",
       "      <td>4</td>\n",
       "      <td>4</td>\n",
       "      <td>4</td>\n",
       "      <td>4</td>\n",
       "      <td>4</td>\n",
       "      <td>4</td>\n",
       "      <td>4</td>\n",
       "      <td>4</td>\n",
       "      <td>4</td>\n",
       "      <td>4</td>\n",
       "    </tr>\n",
       "    <tr>\n",
       "      <th>10</th>\n",
       "      <td>2</td>\n",
       "      <td>2</td>\n",
       "      <td>2</td>\n",
       "      <td>2</td>\n",
       "      <td>0</td>\n",
       "      <td>2</td>\n",
       "      <td>2</td>\n",
       "      <td>2</td>\n",
       "      <td>2</td>\n",
       "      <td>2</td>\n",
       "      <td>...</td>\n",
       "      <td>2</td>\n",
       "      <td>2</td>\n",
       "      <td>2</td>\n",
       "      <td>2</td>\n",
       "      <td>2</td>\n",
       "      <td>2</td>\n",
       "      <td>2</td>\n",
       "      <td>2</td>\n",
       "      <td>2</td>\n",
       "      <td>2</td>\n",
       "    </tr>\n",
       "    <tr>\n",
       "      <th>11</th>\n",
       "      <td>1</td>\n",
       "      <td>1</td>\n",
       "      <td>1</td>\n",
       "      <td>1</td>\n",
       "      <td>1</td>\n",
       "      <td>1</td>\n",
       "      <td>1</td>\n",
       "      <td>1</td>\n",
       "      <td>1</td>\n",
       "      <td>1</td>\n",
       "      <td>...</td>\n",
       "      <td>1</td>\n",
       "      <td>1</td>\n",
       "      <td>1</td>\n",
       "      <td>1</td>\n",
       "      <td>1</td>\n",
       "      <td>1</td>\n",
       "      <td>1</td>\n",
       "      <td>1</td>\n",
       "      <td>1</td>\n",
       "      <td>1</td>\n",
       "    </tr>\n",
       "  </tbody>\n",
       "</table>\n",
       "<p>10 rows × 26 columns</p>\n",
       "</div>"
      ],
      "text/plain": [
       "                                     medallion  hack_license  vendor_id  \\\n",
       "full_date  neighborhood pickup_hour                                       \n",
       "2013-01-01 Astoria      0                    2             2          2   \n",
       "                        1                    6             6          6   \n",
       "                        2                    7             7          7   \n",
       "                        3                   10            10         10   \n",
       "                        4                    7             7          7   \n",
       "                        5                    4             4          4   \n",
       "                        6                    3             3          3   \n",
       "                        9                    4             4          4   \n",
       "                        10                   2             2          2   \n",
       "                        11                   1             1          1   \n",
       "\n",
       "                                     rate_code  store_and_fwd_flag  \\\n",
       "full_date  neighborhood pickup_hour                                  \n",
       "2013-01-01 Astoria      0                    2                   1   \n",
       "                        1                    6                   2   \n",
       "                        2                    7                   2   \n",
       "                        3                   10                   4   \n",
       "                        4                    7                   1   \n",
       "                        5                    4                   1   \n",
       "                        6                    3                   2   \n",
       "                        9                    4                   1   \n",
       "                        10                   2                   0   \n",
       "                        11                   1                   1   \n",
       "\n",
       "                                     pickup_datetime  dropoff_datetime  \\\n",
       "full_date  neighborhood pickup_hour                                      \n",
       "2013-01-01 Astoria      0                          2                 2   \n",
       "                        1                          6                 6   \n",
       "                        2                          7                 7   \n",
       "                        3                         10                10   \n",
       "                        4                          7                 7   \n",
       "                        5                          4                 4   \n",
       "                        6                          3                 3   \n",
       "                        9                          4                 4   \n",
       "                        10                         2                 2   \n",
       "                        11                         1                 1   \n",
       "\n",
       "                                     passenger_count  trip_time_in_secs  \\\n",
       "full_date  neighborhood pickup_hour                                       \n",
       "2013-01-01 Astoria      0                          2                  2   \n",
       "                        1                          6                  6   \n",
       "                        2                          7                  7   \n",
       "                        3                         10                 10   \n",
       "                        4                          7                  7   \n",
       "                        5                          4                  4   \n",
       "                        6                          3                  3   \n",
       "                        9                          4                  4   \n",
       "                        10                         2                  2   \n",
       "                        11                         1                  1   \n",
       "\n",
       "                                     trip_distance    ...      surcharge  \\\n",
       "full_date  neighborhood pickup_hour                   ...                  \n",
       "2013-01-01 Astoria      0                        2    ...              2   \n",
       "                        1                        6    ...              6   \n",
       "                        2                        7    ...              7   \n",
       "                        3                       10    ...             10   \n",
       "                        4                        7    ...              7   \n",
       "                        5                        4    ...              4   \n",
       "                        6                        3    ...              3   \n",
       "                        9                        4    ...              4   \n",
       "                        10                       2    ...              2   \n",
       "                        11                       1    ...              1   \n",
       "\n",
       "                                     mta_tax  tip_amount  tolls_amount  \\\n",
       "full_date  neighborhood pickup_hour                                      \n",
       "2013-01-01 Astoria      0                  2           2             2   \n",
       "                        1                  6           6             6   \n",
       "                        2                  7           7             7   \n",
       "                        3                 10          10            10   \n",
       "                        4                  7           7             7   \n",
       "                        5                  4           4             4   \n",
       "                        6                  3           3             3   \n",
       "                        9                  4           4             4   \n",
       "                        10                 2           2             2   \n",
       "                        11                 1           1             1   \n",
       "\n",
       "                                     total_amount  dropoff_hour  tip_fraction  \\\n",
       "full_date  neighborhood pickup_hour                                             \n",
       "2013-01-01 Astoria      0                       2             2             2   \n",
       "                        1                       6             6             6   \n",
       "                        2                       7             7             7   \n",
       "                        3                      10            10            10   \n",
       "                        4                       7             7             7   \n",
       "                        5                       4             4             4   \n",
       "                        6                       3             3             3   \n",
       "                        9                       4             4             4   \n",
       "                        10                      2             2             2   \n",
       "                        11                      1             1             1   \n",
       "\n",
       "                                     pickup_wday  pickup_day  month_day  \n",
       "full_date  neighborhood pickup_hour                                      \n",
       "2013-01-01 Astoria      0                      2           2          2  \n",
       "                        1                      6           6          6  \n",
       "                        2                      7           7          7  \n",
       "                        3                     10          10         10  \n",
       "                        4                      7           7          7  \n",
       "                        5                      4           4          4  \n",
       "                        6                      3           3          3  \n",
       "                        9                      4           4          4  \n",
       "                        10                     2           2          2  \n",
       "                        11                     1           1          1  \n",
       "\n",
       "[10 rows x 26 columns]"
      ]
     },
     "execution_count": 6,
     "metadata": {},
     "output_type": "execute_result"
    }
   ],
   "source": [
    "sample_trips_with_location.groupby(['full_date','neighborhood','pickup_hour']).count().head(10)"
   ]
  },
  {
   "cell_type": "code",
   "execution_count": 7,
   "metadata": {
    "collapsed": true
   },
   "outputs": [],
   "source": [
    "trip_count_df = pd.DataFrame(columns = ['full_date','pickup_hour','pickup_day','neighborhood','month_day','no_of_trips'])\n",
    "\n",
    "# All columns except the number of trips are assigned using the .first() corresponding to that column in a particular group\n",
    "trip_count_df['full_date'] = sample_trips_with_location.groupby(['full_date','pickup_hour','neighborhood'])['full_date'].first().values\n",
    "trip_count_df['pickup_hour'] = sample_trips_with_location.groupby(['full_date','pickup_hour','neighborhood'])['pickup_hour'].first().values\n",
    "trip_count_df['neighborhood'] = sample_trips_with_location.groupby(['full_date','pickup_hour','neighborhood'])['neighborhood'].first().values\n",
    "trip_count_df['pickup_day'] = sample_trips_with_location.groupby(['full_date','pickup_hour','neighborhood'])['pickup_day'].first().values\n",
    "trip_count_df['month_day'] = sample_trips_with_location.groupby(['full_date','pickup_hour','neighborhood'])['month_day'].first().values\n",
    "\n",
    "# The number of trips is determined using the .count() method\n",
    "trip_count_df['no_of_trips'] = sample_trips_with_location.groupby(['full_date','pickup_hour','neighborhood'])['neighborhood'].count().values"
   ]
  },
  {
   "cell_type": "code",
   "execution_count": 8,
   "metadata": {
    "collapsed": false
   },
   "outputs": [
    {
     "data": {
      "text/html": [
       "<div>\n",
       "<table border=\"1\" class=\"dataframe\">\n",
       "  <thead>\n",
       "    <tr style=\"text-align: right;\">\n",
       "      <th></th>\n",
       "      <th>full_date</th>\n",
       "      <th>pickup_hour</th>\n",
       "      <th>pickup_day</th>\n",
       "      <th>neighborhood</th>\n",
       "      <th>month_day</th>\n",
       "      <th>no_of_trips</th>\n",
       "    </tr>\n",
       "  </thead>\n",
       "  <tbody>\n",
       "    <tr>\n",
       "      <th>0</th>\n",
       "      <td>2013-01-01</td>\n",
       "      <td>0</td>\n",
       "      <td>Tuesday</td>\n",
       "      <td>Astoria</td>\n",
       "      <td>1</td>\n",
       "      <td>2</td>\n",
       "    </tr>\n",
       "    <tr>\n",
       "      <th>1</th>\n",
       "      <td>2013-01-01</td>\n",
       "      <td>0</td>\n",
       "      <td>Tuesday</td>\n",
       "      <td>Battery Park City</td>\n",
       "      <td>1</td>\n",
       "      <td>6</td>\n",
       "    </tr>\n",
       "    <tr>\n",
       "      <th>2</th>\n",
       "      <td>2013-01-01</td>\n",
       "      <td>0</td>\n",
       "      <td>Tuesday</td>\n",
       "      <td>Bushwick</td>\n",
       "      <td>1</td>\n",
       "      <td>1</td>\n",
       "    </tr>\n",
       "    <tr>\n",
       "      <th>3</th>\n",
       "      <td>2013-01-01</td>\n",
       "      <td>0</td>\n",
       "      <td>Tuesday</td>\n",
       "      <td>Carnegie Hill</td>\n",
       "      <td>1</td>\n",
       "      <td>31</td>\n",
       "    </tr>\n",
       "    <tr>\n",
       "      <th>4</th>\n",
       "      <td>2013-01-01</td>\n",
       "      <td>0</td>\n",
       "      <td>Tuesday</td>\n",
       "      <td>Central Harlem</td>\n",
       "      <td>1</td>\n",
       "      <td>1</td>\n",
       "    </tr>\n",
       "  </tbody>\n",
       "</table>\n",
       "</div>"
      ],
      "text/plain": [
       "    full_date  pickup_hour pickup_day       neighborhood  month_day  \\\n",
       "0  2013-01-01            0    Tuesday            Astoria          1   \n",
       "1  2013-01-01            0    Tuesday  Battery Park City          1   \n",
       "2  2013-01-01            0    Tuesday           Bushwick          1   \n",
       "3  2013-01-01            0    Tuesday      Carnegie Hill          1   \n",
       "4  2013-01-01            0    Tuesday     Central Harlem          1   \n",
       "\n",
       "   no_of_trips  \n",
       "0            2  \n",
       "1            6  \n",
       "2            1  \n",
       "3           31  \n",
       "4            1  "
      ]
     },
     "execution_count": 8,
     "metadata": {},
     "output_type": "execute_result"
    }
   ],
   "source": [
    "trip_count_df.head()"
   ]
  },
  {
   "cell_type": "code",
   "execution_count": 9,
   "metadata": {
    "collapsed": false
   },
   "outputs": [
    {
     "data": {
      "text/plain": [
       "full_date       object\n",
       "pickup_hour      int64\n",
       "pickup_day      object\n",
       "neighborhood    object\n",
       "month_day        int64\n",
       "no_of_trips      int64\n",
       "dtype: object"
      ]
     },
     "execution_count": 9,
     "metadata": {},
     "output_type": "execute_result"
    }
   ],
   "source": [
    "trip_count_df.dtypes"
   ]
  },
  {
   "cell_type": "code",
   "execution_count": 10,
   "metadata": {
    "collapsed": true
   },
   "outputs": [],
   "source": [
    "trip_count_df['date_time'] = trip_count_df['full_date'].astype(str) + ' ' + trip_count_df['pickup_hour'].astype(str)"
   ]
  },
  {
   "cell_type": "code",
   "execution_count": 11,
   "metadata": {
    "collapsed": false
   },
   "outputs": [],
   "source": [
    "trip_count_df['date_time'] = trip_count_df['date_time'].apply(lambda x: datetime.strptime(x, '%Y-%m-%d %H'))"
   ]
  },
  {
   "cell_type": "code",
   "execution_count": 12,
   "metadata": {
    "collapsed": false
   },
   "outputs": [
    {
     "data": {
      "text/html": [
       "<div>\n",
       "<table border=\"1\" class=\"dataframe\">\n",
       "  <thead>\n",
       "    <tr style=\"text-align: right;\">\n",
       "      <th></th>\n",
       "      <th>full_date</th>\n",
       "      <th>pickup_hour</th>\n",
       "      <th>pickup_day</th>\n",
       "      <th>neighborhood</th>\n",
       "      <th>month_day</th>\n",
       "      <th>no_of_trips</th>\n",
       "      <th>date_time</th>\n",
       "    </tr>\n",
       "  </thead>\n",
       "  <tbody>\n",
       "    <tr>\n",
       "      <th>0</th>\n",
       "      <td>2013-01-01</td>\n",
       "      <td>0</td>\n",
       "      <td>Tuesday</td>\n",
       "      <td>Astoria</td>\n",
       "      <td>1</td>\n",
       "      <td>2</td>\n",
       "      <td>2013-01-01</td>\n",
       "    </tr>\n",
       "    <tr>\n",
       "      <th>1</th>\n",
       "      <td>2013-01-01</td>\n",
       "      <td>0</td>\n",
       "      <td>Tuesday</td>\n",
       "      <td>Battery Park City</td>\n",
       "      <td>1</td>\n",
       "      <td>6</td>\n",
       "      <td>2013-01-01</td>\n",
       "    </tr>\n",
       "    <tr>\n",
       "      <th>2</th>\n",
       "      <td>2013-01-01</td>\n",
       "      <td>0</td>\n",
       "      <td>Tuesday</td>\n",
       "      <td>Bushwick</td>\n",
       "      <td>1</td>\n",
       "      <td>1</td>\n",
       "      <td>2013-01-01</td>\n",
       "    </tr>\n",
       "    <tr>\n",
       "      <th>3</th>\n",
       "      <td>2013-01-01</td>\n",
       "      <td>0</td>\n",
       "      <td>Tuesday</td>\n",
       "      <td>Carnegie Hill</td>\n",
       "      <td>1</td>\n",
       "      <td>31</td>\n",
       "      <td>2013-01-01</td>\n",
       "    </tr>\n",
       "    <tr>\n",
       "      <th>4</th>\n",
       "      <td>2013-01-01</td>\n",
       "      <td>0</td>\n",
       "      <td>Tuesday</td>\n",
       "      <td>Central Harlem</td>\n",
       "      <td>1</td>\n",
       "      <td>1</td>\n",
       "      <td>2013-01-01</td>\n",
       "    </tr>\n",
       "  </tbody>\n",
       "</table>\n",
       "</div>"
      ],
      "text/plain": [
       "    full_date  pickup_hour pickup_day       neighborhood  month_day  \\\n",
       "0  2013-01-01            0    Tuesday            Astoria          1   \n",
       "1  2013-01-01            0    Tuesday  Battery Park City          1   \n",
       "2  2013-01-01            0    Tuesday           Bushwick          1   \n",
       "3  2013-01-01            0    Tuesday      Carnegie Hill          1   \n",
       "4  2013-01-01            0    Tuesday     Central Harlem          1   \n",
       "\n",
       "   no_of_trips  date_time  \n",
       "0            2 2013-01-01  \n",
       "1            6 2013-01-01  \n",
       "2            1 2013-01-01  \n",
       "3           31 2013-01-01  \n",
       "4            1 2013-01-01  "
      ]
     },
     "execution_count": 12,
     "metadata": {},
     "output_type": "execute_result"
    }
   ],
   "source": [
    "trip_count_df.head()"
   ]
  },
  {
   "cell_type": "code",
   "execution_count": 13,
   "metadata": {
    "collapsed": false
   },
   "outputs": [
    {
     "data": {
      "text/html": [
       "<div>\n",
       "<table border=\"1\" class=\"dataframe\">\n",
       "  <thead>\n",
       "    <tr style=\"text-align: right;\">\n",
       "      <th></th>\n",
       "      <th>full_date</th>\n",
       "      <th>pickup_hour</th>\n",
       "      <th>pickup_day</th>\n",
       "      <th>neighborhood</th>\n",
       "      <th>month_day</th>\n",
       "      <th>no_of_trips</th>\n",
       "      <th>date_time</th>\n",
       "    </tr>\n",
       "  </thead>\n",
       "  <tbody>\n",
       "    <tr>\n",
       "      <th>29548</th>\n",
       "      <td>2013-01-31</td>\n",
       "      <td>23</td>\n",
       "      <td>Thursday</td>\n",
       "      <td>Turtle Bay</td>\n",
       "      <td>31</td>\n",
       "      <td>49</td>\n",
       "      <td>2013-01-31 23:00:00</td>\n",
       "    </tr>\n",
       "    <tr>\n",
       "      <th>29549</th>\n",
       "      <td>2013-01-31</td>\n",
       "      <td>23</td>\n",
       "      <td>Thursday</td>\n",
       "      <td>Upper East Side</td>\n",
       "      <td>31</td>\n",
       "      <td>13</td>\n",
       "      <td>2013-01-31 23:00:00</td>\n",
       "    </tr>\n",
       "    <tr>\n",
       "      <th>29550</th>\n",
       "      <td>2013-01-31</td>\n",
       "      <td>23</td>\n",
       "      <td>Thursday</td>\n",
       "      <td>Upper West Side</td>\n",
       "      <td>31</td>\n",
       "      <td>29</td>\n",
       "      <td>2013-01-31 23:00:00</td>\n",
       "    </tr>\n",
       "    <tr>\n",
       "      <th>29551</th>\n",
       "      <td>2013-01-31</td>\n",
       "      <td>23</td>\n",
       "      <td>Thursday</td>\n",
       "      <td>West Village</td>\n",
       "      <td>31</td>\n",
       "      <td>28</td>\n",
       "      <td>2013-01-31 23:00:00</td>\n",
       "    </tr>\n",
       "    <tr>\n",
       "      <th>29552</th>\n",
       "      <td>2013-01-31</td>\n",
       "      <td>23</td>\n",
       "      <td>Thursday</td>\n",
       "      <td>Yorkville</td>\n",
       "      <td>31</td>\n",
       "      <td>10</td>\n",
       "      <td>2013-01-31 23:00:00</td>\n",
       "    </tr>\n",
       "  </tbody>\n",
       "</table>\n",
       "</div>"
      ],
      "text/plain": [
       "        full_date  pickup_hour pickup_day     neighborhood  month_day  \\\n",
       "29548  2013-01-31           23   Thursday       Turtle Bay         31   \n",
       "29549  2013-01-31           23   Thursday  Upper East Side         31   \n",
       "29550  2013-01-31           23   Thursday  Upper West Side         31   \n",
       "29551  2013-01-31           23   Thursday     West Village         31   \n",
       "29552  2013-01-31           23   Thursday        Yorkville         31   \n",
       "\n",
       "       no_of_trips           date_time  \n",
       "29548           49 2013-01-31 23:00:00  \n",
       "29549           13 2013-01-31 23:00:00  \n",
       "29550           29 2013-01-31 23:00:00  \n",
       "29551           28 2013-01-31 23:00:00  \n",
       "29552           10 2013-01-31 23:00:00  "
      ]
     },
     "execution_count": 13,
     "metadata": {},
     "output_type": "execute_result"
    }
   ],
   "source": [
    "trip_count_df.tail()"
   ]
  },
  {
   "cell_type": "code",
   "execution_count": 14,
   "metadata": {
    "collapsed": false
   },
   "outputs": [
    {
     "data": {
      "text/plain": [
       "full_date               object\n",
       "pickup_hour              int64\n",
       "pickup_day              object\n",
       "neighborhood            object\n",
       "month_day                int64\n",
       "no_of_trips              int64\n",
       "date_time       datetime64[ns]\n",
       "dtype: object"
      ]
     },
     "execution_count": 14,
     "metadata": {},
     "output_type": "execute_result"
    }
   ],
   "source": [
    "trip_count_df.dtypes"
   ]
  },
  {
   "cell_type": "code",
   "execution_count": 83,
   "metadata": {
    "collapsed": false
   },
   "outputs": [],
   "source": [
    "timeseries_midtown = trip_count_df[trip_count_df['neighborhood'] == 'Midtown']"
   ]
  },
  {
   "cell_type": "code",
   "execution_count": 80,
   "metadata": {
    "collapsed": false
   },
   "outputs": [
    {
     "data": {
      "text/html": [
       "<div>\n",
       "<table border=\"1\" class=\"dataframe\">\n",
       "  <thead>\n",
       "    <tr style=\"text-align: right;\">\n",
       "      <th></th>\n",
       "      <th>full_date</th>\n",
       "      <th>pickup_hour</th>\n",
       "      <th>pickup_day</th>\n",
       "      <th>neighborhood</th>\n",
       "      <th>month_day</th>\n",
       "      <th>no_of_trips</th>\n",
       "      <th>date_time</th>\n",
       "    </tr>\n",
       "  </thead>\n",
       "  <tbody>\n",
       "    <tr>\n",
       "      <th>26</th>\n",
       "      <td>2013-01-01</td>\n",
       "      <td>0</td>\n",
       "      <td>Tuesday</td>\n",
       "      <td>Midtown</td>\n",
       "      <td>1</td>\n",
       "      <td>56</td>\n",
       "      <td>2013-01-01 00:00:00</td>\n",
       "    </tr>\n",
       "    <tr>\n",
       "      <th>74</th>\n",
       "      <td>2013-01-01</td>\n",
       "      <td>1</td>\n",
       "      <td>Tuesday</td>\n",
       "      <td>Midtown</td>\n",
       "      <td>1</td>\n",
       "      <td>19</td>\n",
       "      <td>2013-01-01 01:00:00</td>\n",
       "    </tr>\n",
       "    <tr>\n",
       "      <th>127</th>\n",
       "      <td>2013-01-01</td>\n",
       "      <td>2</td>\n",
       "      <td>Tuesday</td>\n",
       "      <td>Midtown</td>\n",
       "      <td>1</td>\n",
       "      <td>34</td>\n",
       "      <td>2013-01-01 02:00:00</td>\n",
       "    </tr>\n",
       "    <tr>\n",
       "      <th>182</th>\n",
       "      <td>2013-01-01</td>\n",
       "      <td>3</td>\n",
       "      <td>Tuesday</td>\n",
       "      <td>Midtown</td>\n",
       "      <td>1</td>\n",
       "      <td>39</td>\n",
       "      <td>2013-01-01 03:00:00</td>\n",
       "    </tr>\n",
       "    <tr>\n",
       "      <th>237</th>\n",
       "      <td>2013-01-01</td>\n",
       "      <td>4</td>\n",
       "      <td>Tuesday</td>\n",
       "      <td>Midtown</td>\n",
       "      <td>1</td>\n",
       "      <td>23</td>\n",
       "      <td>2013-01-01 04:00:00</td>\n",
       "    </tr>\n",
       "  </tbody>\n",
       "</table>\n",
       "</div>"
      ],
      "text/plain": [
       "      full_date  pickup_hour pickup_day neighborhood  month_day  no_of_trips  \\\n",
       "26   2013-01-01            0    Tuesday      Midtown          1           56   \n",
       "74   2013-01-01            1    Tuesday      Midtown          1           19   \n",
       "127  2013-01-01            2    Tuesday      Midtown          1           34   \n",
       "182  2013-01-01            3    Tuesday      Midtown          1           39   \n",
       "237  2013-01-01            4    Tuesday      Midtown          1           23   \n",
       "\n",
       "              date_time  \n",
       "26  2013-01-01 00:00:00  \n",
       "74  2013-01-01 01:00:00  \n",
       "127 2013-01-01 02:00:00  \n",
       "182 2013-01-01 03:00:00  \n",
       "237 2013-01-01 04:00:00  "
      ]
     },
     "execution_count": 80,
     "metadata": {},
     "output_type": "execute_result"
    }
   ],
   "source": [
    "timeseries_midtown.head()"
   ]
  },
  {
   "cell_type": "code",
   "execution_count": 84,
   "metadata": {
    "collapsed": false
   },
   "outputs": [
    {
     "data": {
      "text/html": [
       "<div>\n",
       "<table border=\"1\" class=\"dataframe\">\n",
       "  <thead>\n",
       "    <tr style=\"text-align: right;\">\n",
       "      <th></th>\n",
       "      <th>full_date</th>\n",
       "      <th>pickup_hour</th>\n",
       "      <th>pickup_day</th>\n",
       "      <th>neighborhood</th>\n",
       "      <th>month_day</th>\n",
       "      <th>no_of_trips</th>\n",
       "      <th>date_time</th>\n",
       "    </tr>\n",
       "  </thead>\n",
       "  <tbody>\n",
       "    <tr>\n",
       "      <th>0</th>\n",
       "      <td>2013-01-01</td>\n",
       "      <td>0</td>\n",
       "      <td>Tuesday</td>\n",
       "      <td>Midtown</td>\n",
       "      <td>1</td>\n",
       "      <td>56</td>\n",
       "      <td>2013-01-01 00:00:00</td>\n",
       "    </tr>\n",
       "    <tr>\n",
       "      <th>1</th>\n",
       "      <td>2013-01-01</td>\n",
       "      <td>1</td>\n",
       "      <td>Tuesday</td>\n",
       "      <td>Midtown</td>\n",
       "      <td>1</td>\n",
       "      <td>19</td>\n",
       "      <td>2013-01-01 01:00:00</td>\n",
       "    </tr>\n",
       "    <tr>\n",
       "      <th>2</th>\n",
       "      <td>2013-01-01</td>\n",
       "      <td>2</td>\n",
       "      <td>Tuesday</td>\n",
       "      <td>Midtown</td>\n",
       "      <td>1</td>\n",
       "      <td>34</td>\n",
       "      <td>2013-01-01 02:00:00</td>\n",
       "    </tr>\n",
       "    <tr>\n",
       "      <th>3</th>\n",
       "      <td>2013-01-01</td>\n",
       "      <td>3</td>\n",
       "      <td>Tuesday</td>\n",
       "      <td>Midtown</td>\n",
       "      <td>1</td>\n",
       "      <td>39</td>\n",
       "      <td>2013-01-01 03:00:00</td>\n",
       "    </tr>\n",
       "    <tr>\n",
       "      <th>4</th>\n",
       "      <td>2013-01-01</td>\n",
       "      <td>4</td>\n",
       "      <td>Tuesday</td>\n",
       "      <td>Midtown</td>\n",
       "      <td>1</td>\n",
       "      <td>23</td>\n",
       "      <td>2013-01-01 04:00:00</td>\n",
       "    </tr>\n",
       "  </tbody>\n",
       "</table>\n",
       "</div>"
      ],
      "text/plain": [
       "    full_date  pickup_hour pickup_day neighborhood  month_day  no_of_trips  \\\n",
       "0  2013-01-01            0    Tuesday      Midtown          1           56   \n",
       "1  2013-01-01            1    Tuesday      Midtown          1           19   \n",
       "2  2013-01-01            2    Tuesday      Midtown          1           34   \n",
       "3  2013-01-01            3    Tuesday      Midtown          1           39   \n",
       "4  2013-01-01            4    Tuesday      Midtown          1           23   \n",
       "\n",
       "            date_time  \n",
       "0 2013-01-01 00:00:00  \n",
       "1 2013-01-01 01:00:00  \n",
       "2 2013-01-01 02:00:00  \n",
       "3 2013-01-01 03:00:00  \n",
       "4 2013-01-01 04:00:00  "
      ]
     },
     "execution_count": 84,
     "metadata": {},
     "output_type": "execute_result"
    }
   ],
   "source": [
    "timeseries_midtown = timeseries_midtown.reset_index(drop = True)\n",
    "timeseries_midtown.head()"
   ]
  },
  {
   "cell_type": "code",
   "execution_count": 109,
   "metadata": {
    "collapsed": false
   },
   "outputs": [
    {
     "data": {
      "text/html": [
       "<div>\n",
       "<table border=\"1\" class=\"dataframe\">\n",
       "  <thead>\n",
       "    <tr style=\"text-align: right;\">\n",
       "      <th></th>\n",
       "      <th>full_date</th>\n",
       "      <th>pickup_hour</th>\n",
       "      <th>pickup_day</th>\n",
       "      <th>neighborhood</th>\n",
       "      <th>month_day</th>\n",
       "      <th>no_of_trips</th>\n",
       "    </tr>\n",
       "    <tr>\n",
       "      <th>date_time</th>\n",
       "      <th></th>\n",
       "      <th></th>\n",
       "      <th></th>\n",
       "      <th></th>\n",
       "      <th></th>\n",
       "      <th></th>\n",
       "    </tr>\n",
       "  </thead>\n",
       "  <tbody>\n",
       "    <tr>\n",
       "      <th>2013-01-01 00:00:00</th>\n",
       "      <td>2013-01-01</td>\n",
       "      <td>0</td>\n",
       "      <td>Tuesday</td>\n",
       "      <td>Midtown</td>\n",
       "      <td>1</td>\n",
       "      <td>56</td>\n",
       "    </tr>\n",
       "    <tr>\n",
       "      <th>2013-01-01 01:00:00</th>\n",
       "      <td>2013-01-01</td>\n",
       "      <td>1</td>\n",
       "      <td>Tuesday</td>\n",
       "      <td>Midtown</td>\n",
       "      <td>1</td>\n",
       "      <td>19</td>\n",
       "    </tr>\n",
       "    <tr>\n",
       "      <th>2013-01-01 02:00:00</th>\n",
       "      <td>2013-01-01</td>\n",
       "      <td>2</td>\n",
       "      <td>Tuesday</td>\n",
       "      <td>Midtown</td>\n",
       "      <td>1</td>\n",
       "      <td>34</td>\n",
       "    </tr>\n",
       "    <tr>\n",
       "      <th>2013-01-01 03:00:00</th>\n",
       "      <td>2013-01-01</td>\n",
       "      <td>3</td>\n",
       "      <td>Tuesday</td>\n",
       "      <td>Midtown</td>\n",
       "      <td>1</td>\n",
       "      <td>39</td>\n",
       "    </tr>\n",
       "    <tr>\n",
       "      <th>2013-01-01 04:00:00</th>\n",
       "      <td>2013-01-01</td>\n",
       "      <td>4</td>\n",
       "      <td>Tuesday</td>\n",
       "      <td>Midtown</td>\n",
       "      <td>1</td>\n",
       "      <td>23</td>\n",
       "    </tr>\n",
       "  </tbody>\n",
       "</table>\n",
       "</div>"
      ],
      "text/plain": [
       "                      full_date  pickup_hour pickup_day neighborhood  \\\n",
       "date_time                                                              \n",
       "2013-01-01 00:00:00  2013-01-01            0    Tuesday      Midtown   \n",
       "2013-01-01 01:00:00  2013-01-01            1    Tuesday      Midtown   \n",
       "2013-01-01 02:00:00  2013-01-01            2    Tuesday      Midtown   \n",
       "2013-01-01 03:00:00  2013-01-01            3    Tuesday      Midtown   \n",
       "2013-01-01 04:00:00  2013-01-01            4    Tuesday      Midtown   \n",
       "\n",
       "                     month_day  no_of_trips  \n",
       "date_time                                    \n",
       "2013-01-01 00:00:00          1           56  \n",
       "2013-01-01 01:00:00          1           19  \n",
       "2013-01-01 02:00:00          1           34  \n",
       "2013-01-01 03:00:00          1           39  \n",
       "2013-01-01 04:00:00          1           23  "
      ]
     },
     "execution_count": 109,
     "metadata": {},
     "output_type": "execute_result"
    }
   ],
   "source": [
    "timeseries_midtown.set_index('date_time', inplace=True)\n",
    "timeseries_midtown.head()"
   ]
  },
  {
   "cell_type": "code",
   "execution_count": 110,
   "metadata": {
    "collapsed": false
   },
   "outputs": [
    {
     "data": {
      "text/plain": [
       "date_time\n",
       "2013-01-01 00:00:00    56\n",
       "2013-01-01 01:00:00    19\n",
       "2013-01-01 02:00:00    34\n",
       "2013-01-01 03:00:00    39\n",
       "2013-01-01 04:00:00    23\n",
       "Name: no_of_trips, dtype: int64"
      ]
     },
     "execution_count": 110,
     "metadata": {},
     "output_type": "execute_result"
    }
   ],
   "source": [
    "series1=timeseries_midtown['no_of_trips']\n",
    "series1.head()"
   ]
  },
  {
   "cell_type": "code",
   "execution_count": 19,
   "metadata": {
    "collapsed": true
   },
   "outputs": [],
   "source": [
    "from luminol import anomaly_detector"
   ]
  },
  {
   "cell_type": "code",
   "execution_count": 88,
   "metadata": {
    "collapsed": false
   },
   "outputs": [],
   "source": [
    "# detector = anomaly_detector.AnomalyDetector(series1)\n",
    "# anomalies = detector.get_anomalies()"
   ]
  },
  {
   "cell_type": "code",
   "execution_count": 111,
   "metadata": {
    "collapsed": false
   },
   "outputs": [
    {
     "data": {
      "text/plain": [
       "Timedelta('2 days 00:00:00')"
      ]
     },
     "execution_count": 111,
     "metadata": {},
     "output_type": "execute_result"
    }
   ],
   "source": [
    "timeseries_midtown.index[48] - timeseries_midtown.index[0]"
   ]
  },
  {
   "cell_type": "code",
   "execution_count": 119,
   "metadata": {
    "collapsed": false
   },
   "outputs": [
    {
     "data": {
      "text/plain": [
       "Timestamp('2013-01-03 01:00:00')"
      ]
     },
     "execution_count": 119,
     "metadata": {},
     "output_type": "execute_result"
    }
   ],
   "source": [
    "from datetime import timedelta\n",
    "timeseries_midtown.index[0] + timedelta(days = 2, hours = 1)"
   ]
  },
  {
   "cell_type": "code",
   "execution_count": 108,
   "metadata": {
    "collapsed": false
   },
   "outputs": [
    {
     "data": {
      "text/plain": [
       "Index([u'full_date', u'pickup_hour', u'pickup_day', u'neighborhood',\n",
       "       u'month_day', u'no_of_trips', u'date_time'],\n",
       "      dtype='object')"
      ]
     },
     "execution_count": 108,
     "metadata": {},
     "output_type": "execute_result"
    }
   ],
   "source": [
    "timeseries_midtown.columns"
   ]
  },
  {
   "cell_type": "code",
   "execution_count": 120,
   "metadata": {
    "collapsed": false
   },
   "outputs": [
    {
     "data": {
      "text/plain": [
       "<matplotlib.axes._subplots.AxesSubplot at 0x19e8e668>"
      ]
     },
     "execution_count": 120,
     "metadata": {},
     "output_type": "execute_result"
    },
    {
     "data": {
      "image/png": "[encoded data removed]",
      "text/plain": [
       "<matplotlib.figure.Figure at 0x19e77c88>"
      ]
     },
     "metadata": {},
     "output_type": "display_data"
    }
   ],
   "source": [
    "# timeseries_midtown[(timeseries_midtown.index >= '2013-01-01 00:00:00') & (timeseries_midtown.index <= '2013-01-15 00:00:00')][['no_of_trips']].plot()\n",
    "timeseries_midtown[['no_of_trips']].plot()"
   ]
  },
  {
   "cell_type": "code",
   "execution_count": 128,
   "metadata": {
    "collapsed": false
   },
   "outputs": [
    {
     "name": "stdout",
     "output_type": "stream",
     "text": [
      "('Autocorrelation daily: ', 0.79900662949997714)\n",
      "('Autocorrelation weekly: ', 0.85688319564802495)\n",
      "('Autocorrelation half_day: ', -0.31508648784349985)\n"
     ]
    }
   ],
   "source": [
    "print('Autocorrelation daily: ', timeseries_midtown['no_of_trips'].autocorr(24))\n",
    "print('Autocorrelation weekly: ', timeseries_midtown['no_of_trips'].autocorr(168))\n",
    "print('Autocorrelation half_day: ', timeseries_midtown['no_of_trips'].autocorr(12))"
   ]
  },
  {
   "cell_type": "code",
   "execution_count": 129,
   "metadata": {
    "collapsed": false
   },
   "outputs": [
    {
     "data": {
      "text/html": [
       "<div>\n",
       "<table border=\"1\" class=\"dataframe\">\n",
       "  <thead>\n",
       "    <tr style=\"text-align: right;\">\n",
       "      <th></th>\n",
       "      <th>Lag</th>\n",
       "      <th>Autocorrelation</th>\n",
       "    </tr>\n",
       "  </thead>\n",
       "  <tbody>\n",
       "    <tr>\n",
       "      <th>0</th>\n",
       "      <td>1</td>\n",
       "      <td>0.875299</td>\n",
       "    </tr>\n",
       "    <tr>\n",
       "      <th>1</th>\n",
       "      <td>2</td>\n",
       "      <td>0.707558</td>\n",
       "    </tr>\n",
       "    <tr>\n",
       "      <th>2</th>\n",
       "      <td>3</td>\n",
       "      <td>0.508735</td>\n",
       "    </tr>\n",
       "    <tr>\n",
       "      <th>3</th>\n",
       "      <td>4</td>\n",
       "      <td>0.297564</td>\n",
       "    </tr>\n",
       "    <tr>\n",
       "      <th>4</th>\n",
       "      <td>5</td>\n",
       "      <td>0.098172</td>\n",
       "    </tr>\n",
       "  </tbody>\n",
       "</table>\n",
       "</div>"
      ],
      "text/plain": [
       "   Lag  Autocorrelation\n",
       "0    1         0.875299\n",
       "1    2         0.707558\n",
       "2    3         0.508735\n",
       "3    4         0.297564\n",
       "4    5         0.098172"
      ]
     },
     "execution_count": 129,
     "metadata": {},
     "output_type": "execute_result"
    },
    {
     "data": {
      "image/png": "[encoded data removed]",
      "text/plain": [
       "<matplotlib.figure.Figure at 0x19136940>"
      ]
     },
     "metadata": {},
     "output_type": "display_data"
    }
   ],
   "source": [
    "corr_list = []\n",
    "for lag in range(1, 168):\n",
    "    corr_list.append(timeseries_midtown['no_of_trips'].autocorr(lag))\n",
    "corr_list_df = pd.DataFrame(data=corr_list, columns=['Autocorrelation'])\n",
    "corr_list_df.plot()\n",
    "\n",
    "def grid_search_corr(x, lag_limit):\n",
    "    corr_list_dict = pd.DataFrame()\n",
    "    for lag in range(1, 168):\n",
    "        corr = x.autocorr(lag)\n",
    "        if corr > lag_limit:\n",
    "            corr_list_dict = corr_list_dict.append(pd.DataFrame(data=[[lag, corr]], columns = ['Lag','Autocorrelation']))      \n",
    "    \n",
    "    corr_list_dict.index = range(corr_list_dict.shape[0])\n",
    "    return corr_list_dict\n",
    "\n",
    "corr_list_df = grid_search_corr(timeseries_midtown['no_of_trips'], -0.6)\n",
    "corr_list_df.head()"
   ]
  },
  {
   "cell_type": "code",
   "execution_count": 95,
   "metadata": {
    "collapsed": false
   },
   "outputs": [
    {
     "name": "stderr",
     "output_type": "stream",
     "text": [
      "C:\\Users\\Anirban\\Anaconda2\\lib\\site-packages\\ipykernel\\__main__.py:1: FutureWarning: sort(columns=....) is deprecated, use sort_values(by=.....)\n",
      "  if __name__ == '__main__':\n"
     ]
    },
    {
     "data": {
      "text/html": [
       "<div>\n",
       "<table border=\"1\" class=\"dataframe\">\n",
       "  <thead>\n",
       "    <tr style=\"text-align: right;\">\n",
       "      <th></th>\n",
       "      <th>Lag</th>\n",
       "      <th>Autocorrelation</th>\n",
       "    </tr>\n",
       "  </thead>\n",
       "  <tbody>\n",
       "    <tr>\n",
       "      <th>0</th>\n",
       "      <td>1</td>\n",
       "      <td>0.875299</td>\n",
       "    </tr>\n",
       "    <tr>\n",
       "      <th>166</th>\n",
       "      <td>167</td>\n",
       "      <td>0.812059</td>\n",
       "    </tr>\n",
       "    <tr>\n",
       "      <th>23</th>\n",
       "      <td>24</td>\n",
       "      <td>0.799007</td>\n",
       "    </tr>\n",
       "    <tr>\n",
       "      <th>143</th>\n",
       "      <td>144</td>\n",
       "      <td>0.790621</td>\n",
       "    </tr>\n",
       "    <tr>\n",
       "      <th>142</th>\n",
       "      <td>143</td>\n",
       "      <td>0.768469</td>\n",
       "    </tr>\n",
       "  </tbody>\n",
       "</table>\n",
       "</div>"
      ],
      "text/plain": [
       "     Lag  Autocorrelation\n",
       "0      1         0.875299\n",
       "166  167         0.812059\n",
       "23    24         0.799007\n",
       "143  144         0.790621\n",
       "142  143         0.768469"
      ]
     },
     "execution_count": 95,
     "metadata": {},
     "output_type": "execute_result"
    }
   ],
   "source": [
    "corr_list_df.sort(columns = 'Autocorrelation', ascending = False).head()"
   ]
  },
  {
   "cell_type": "code",
   "execution_count": 123,
   "metadata": {
    "collapsed": false
   },
   "outputs": [],
   "source": [
    "n = len(timeseries_midtown['no_of_trips'])\n",
    "\n",
    "train = timeseries_midtown['no_of_trips'][:int(.8*n)]\n",
    "# train = timeseries_midtown['no_of_trips'].head(599)\n",
    "test = timeseries_midtown['no_of_trips'][int(.8*n):]\n",
    "train = train.apply(float)\n",
    "test = test.apply(float)"
   ]
  },
  {
   "cell_type": "code",
   "execution_count": 124,
   "metadata": {
    "collapsed": false
   },
   "outputs": [
    {
     "data": {
      "text/plain": [
       "date_time\n",
       "2013-01-25 14:00:00    133.0\n",
       "2013-01-25 15:00:00     95.0\n",
       "2013-01-25 16:00:00     84.0\n",
       "2013-01-25 17:00:00     62.0\n",
       "2013-01-25 18:00:00     66.0\n",
       "Name: no_of_trips, dtype: float64"
      ]
     },
     "execution_count": 124,
     "metadata": {},
     "output_type": "execute_result"
    }
   ],
   "source": [
    "train.tail()"
   ]
  },
  {
   "cell_type": "code",
   "execution_count": 125,
   "metadata": {
    "collapsed": false
   },
   "outputs": [
    {
     "data": {
      "text/plain": [
       "(594L,)"
      ]
     },
     "execution_count": 125,
     "metadata": {},
     "output_type": "execute_result"
    }
   ],
   "source": [
    "train.shape"
   ]
  },
  {
   "cell_type": "code",
   "execution_count": 126,
   "metadata": {
    "collapsed": false
   },
   "outputs": [
    {
     "data": {
      "text/html": [
       "<table class=\"simpletable\">\n",
       "<caption>ARMA Model Results</caption>\n",
       "<tr>\n",
       "  <th>Dep. Variable:</th>    <td>no_of_trips</td>   <th>  No. Observations:  </th>    <td>594</td>   \n",
       "</tr>\n",
       "<tr>\n",
       "  <th>Model:</th>            <td>ARMA(2, 2)</td>    <th>  Log Likelihood     </th> <td>-2558.616</td>\n",
       "</tr>\n",
       "<tr>\n",
       "  <th>Method:</th>             <td>css-mle</td>     <th>  S.D. of innovations</th>  <td>17.937</td>  \n",
       "</tr>\n",
       "<tr>\n",
       "  <th>Date:</th>          <td>Sun, 25 Sep 2016</td> <th>  AIC                </th> <td>5129.231</td> \n",
       "</tr>\n",
       "<tr>\n",
       "  <th>Time:</th>              <td>22:31:29</td>     <th>  BIC                </th> <td>5155.553</td> \n",
       "</tr>\n",
       "<tr>\n",
       "  <th>Sample:</th>           <td>01-01-2013</td>    <th>  HQIC               </th> <td>5139.482</td> \n",
       "</tr>\n",
       "<tr>\n",
       "  <th></th>                 <td>- 01-25-2013</td>   <th>                     </th>     <td> </td>    \n",
       "</tr>\n",
       "</table>\n",
       "<table class=\"simpletable\">\n",
       "<tr>\n",
       "          <td></td>             <th>coef</th>     <th>std err</th>      <th>z</th>      <th>P>|z|</th> <th>[95.0% Conf. Int.]</th> \n",
       "</tr>\n",
       "<tr>\n",
       "  <th>const</th>             <td>   66.8296</td> <td>    2.424</td> <td>   27.573</td> <td> 0.000</td> <td>   62.079    71.580</td>\n",
       "</tr>\n",
       "<tr>\n",
       "  <th>ar.L1.no_of_trips</th> <td>    1.7537</td> <td>    0.037</td> <td>   47.804</td> <td> 0.000</td> <td>    1.682     1.826</td>\n",
       "</tr>\n",
       "<tr>\n",
       "  <th>ar.L2.no_of_trips</th> <td>   -0.8336</td> <td>    0.031</td> <td>  -26.740</td> <td> 0.000</td> <td>   -0.895    -0.773</td>\n",
       "</tr>\n",
       "<tr>\n",
       "  <th>ma.L1.no_of_trips</th> <td>   -0.7585</td> <td>    0.055</td> <td>  -13.754</td> <td> 0.000</td> <td>   -0.867    -0.650</td>\n",
       "</tr>\n",
       "<tr>\n",
       "  <th>ma.L2.no_of_trips</th> <td>    0.0208</td> <td>    0.047</td> <td>    0.442</td> <td> 0.658</td> <td>   -0.071     0.113</td>\n",
       "</tr>\n",
       "</table>\n",
       "<table class=\"simpletable\">\n",
       "<caption>Roots</caption>\n",
       "<tr>\n",
       "    <td></td>   <th>           Real</th> <th>         Imaginary</th> <th>         Modulus</th> <th>        Frequency</th>\n",
       "</tr>\n",
       "<tr>\n",
       "  <th>AR.1</th>               1.0519                    -0.3052j                    1.0953                   -0.0449     \n",
       "</tr>\n",
       "<tr>\n",
       "  <th>AR.2</th>               1.0519                    +0.3052j                    1.0953                    0.0449     \n",
       "</tr>\n",
       "<tr>\n",
       "  <th>MA.1</th>               1.3699                    +0.0000j                    1.3699                    0.0000     \n",
       "</tr>\n",
       "<tr>\n",
       "  <th>MA.2</th>              35.1259                    +0.0000j                   35.1259                    0.0000     \n",
       "</tr>\n",
       "</table>"
      ],
      "text/plain": [
       "<class 'statsmodels.iolib.summary.Summary'>\n",
       "\"\"\"\n",
       "                              ARMA Model Results                              \n",
       "==============================================================================\n",
       "Dep. Variable:            no_of_trips   No. Observations:                  594\n",
       "Model:                     ARMA(2, 2)   Log Likelihood               -2558.616\n",
       "Method:                       css-mle   S.D. of innovations             17.937\n",
       "Date:                Sun, 25 Sep 2016   AIC                           5129.231\n",
       "Time:                        22:31:29   BIC                           5155.553\n",
       "Sample:                    01-01-2013   HQIC                          5139.482\n",
       "                         - 01-25-2013                                         \n",
       "=====================================================================================\n",
       "                        coef    std err          z      P>|z|      [95.0% Conf. Int.]\n",
       "-------------------------------------------------------------------------------------\n",
       "const                66.8296      2.424     27.573      0.000        62.079    71.580\n",
       "ar.L1.no_of_trips     1.7537      0.037     47.804      0.000         1.682     1.826\n",
       "ar.L2.no_of_trips    -0.8336      0.031    -26.740      0.000        -0.895    -0.773\n",
       "ma.L1.no_of_trips    -0.7585      0.055    -13.754      0.000        -0.867    -0.650\n",
       "ma.L2.no_of_trips     0.0208      0.047      0.442      0.658        -0.071     0.113\n",
       "                                    Roots                                    \n",
       "=============================================================================\n",
       "                 Real           Imaginary           Modulus         Frequency\n",
       "-----------------------------------------------------------------------------\n",
       "AR.1            1.0519           -0.3052j            1.0953           -0.0449\n",
       "AR.2            1.0519           +0.3052j            1.0953            0.0449\n",
       "MA.1            1.3699           +0.0000j            1.3699            0.0000\n",
       "MA.2           35.1259           +0.0000j           35.1259            0.0000\n",
       "-----------------------------------------------------------------------------\n",
       "\"\"\""
      ]
     },
     "execution_count": 126,
     "metadata": {},
     "output_type": "execute_result"
    }
   ],
   "source": [
    "model = sm.tsa.ARIMA(train, order=(2, 0, 2)).fit()\n",
    "\n",
    "predictions = model.predict(\n",
    "    '2013-01-24 17:00:00',\n",
    "    '2013-01-25 18:00:00',\n",
    "    dynamic=True, \n",
    ")\n",
    "\n",
    "# predictions = model.predict(\n",
    "#     1, 25,\n",
    "#     dynamic=True, \n",
    "# )\n",
    "\n",
    "# print(\"Mean absolute error: \", mean_absolute_error(test, predictions))\n",
    "\n",
    "model.summary()"
   ]
  },
  {
   "cell_type": "code",
   "execution_count": 127,
   "metadata": {
    "collapsed": false
   },
   "outputs": [
    {
     "data": {
      "text/plain": [
       "date_time\n",
       "2013-01-24 17:00:00    59.549243\n",
       "2013-01-24 18:00:00    50.823448\n",
       "2013-01-24 19:00:00    44.827981\n",
       "2013-01-24 20:00:00    41.587450\n",
       "2013-01-24 21:00:00    40.902317\n",
       "2013-01-24 22:00:00    42.402131\n",
       "2013-01-24 23:00:00    45.603553\n",
       "2013-01-25 00:00:00    49.967749\n",
       "2013-01-25 01:00:00    54.952660\n",
       "2013-01-25 02:00:00    60.056838\n",
       "2013-01-25 03:00:00    64.852739\n",
       "2013-01-25 04:00:00    69.008582\n",
       "2013-01-25 05:00:00    72.298913\n",
       "2013-01-25 06:00:00    74.604921\n",
       "2013-01-25 07:00:00    75.906189\n",
       "2013-01-25 08:00:00    76.265951\n",
       "2013-01-25 09:00:00    75.812120\n",
       "2013-01-25 10:00:00    74.716316\n",
       "2013-01-25 11:00:00    73.172881\n",
       "2013-01-25 12:00:00    71.379576\n",
       "2013-01-25 13:00:00    69.521215\n",
       "2013-01-25 14:00:00    67.757061\n",
       "2013-01-25 15:00:00    66.212351\n",
       "2013-01-25 16:00:00    64.973958\n",
       "2013-01-25 17:00:00    64.089833\n",
       "2013-01-25 18:00:00    63.571651\n",
       "dtype: float64"
      ]
     },
     "execution_count": 127,
     "metadata": {},
     "output_type": "execute_result"
    }
   ],
   "source": [
    "predictions"
   ]
  },
  {
   "cell_type": "code",
   "execution_count": 56,
   "metadata": {
    "collapsed": true
   },
   "outputs": [],
   "source": [
    "lloyd = {\n",
    "    \"name\": \"Lloyd\",\n",
    "    \"homework\": [90.0, 97.0, 75.0, 92.0],\n",
    "    \"quizzes\": [88.0, 40.0, 94.0],\n",
    "    \"tests\": [75.0, 90.0]\n",
    "}\n",
    "alice = {\n",
    "    \"name\": \"Alice\",\n",
    "    \"homework\": [100.0, 92.0, 98.0, 100.0],\n",
    "    \"quizzes\": [82.0, 83.0, 91.0],\n",
    "    \"tests\": [89.0, 97.0]\n",
    "}\n",
    "tyler = {\n",
    "    \"name\": \"Tyler\",\n",
    "    \"homework\": [0.0, 87.0, 75.0, 22.0],\n",
    "    \"quizzes\": [0.0, 75.0, 78.0],\n",
    "    \"tests\": [100.0, 100.0]\n",
    "}\n",
    "\n",
    "students = [lloyd, alice, tyler]"
   ]
  },
  {
   "cell_type": "code",
   "execution_count": 67,
   "metadata": {
    "collapsed": false
   },
   "outputs": [
    {
     "name": "stdout",
     "output_type": "stream",
     "text": [
      "Lloyd\n",
      "354.0\n",
      "[88.0, 40.0, 94.0]\n",
      "[75.0, 90.0]\n",
      "Alice\n",
      "390.0\n",
      "[82.0, 83.0, 91.0]\n",
      "[89.0, 97.0]\n",
      "Tyler\n",
      "184.0\n",
      "[0.0, 75.0, 78.0]\n",
      "[100.0, 100.0]\n"
     ]
    }
   ],
   "source": [
    "for student in students:\n",
    "    print student[\"name\"]\n",
    "    print student[\"homework\"]\n",
    "    print student[\"quizzes\"]\n",
    "    print student[\"tests\"]"
   ]
  },
  {
   "cell_type": "code",
   "execution_count": 77,
   "metadata": {
    "collapsed": false
   },
   "outputs": [
    {
     "name": "stdout",
     "output_type": "stream",
     "text": [
      "Lloyd\n",
      "82.5\n",
      "88.5\n",
      "74.0\n"
     ]
    }
   ],
   "source": [
    "def get_average(score):\n",
    "    total = sum(score)\n",
    "    num = len(score)\n",
    "    average = total/num\n",
    "    return average\n",
    "\n",
    "# for student in students:\n",
    "print lloyd['name']\n",
    "print get_average(lloyd['tests'])\n",
    "print get_average(lloyd['homework'])\n",
    "print get_average(lloyd['quizzes'])"
   ]
  }
 ],
 "metadata": {
  "kernelspec": {
   "display_name": "Python 2",
   "language": "python",
   "name": "python2"
  },
  "language_info": {
   "codemirror_mode": {
    "name": "ipython",
    "version": 2
   },
   "file_extension": ".py",
   "mimetype": "text/x-python",
   "name": "python",
   "nbconvert_exporter": "python",
   "pygments_lexer": "ipython2",
   "version": "2.7.11"
  }
 },
 "nbformat": 4,
 "nbformat_minor": 0
}
